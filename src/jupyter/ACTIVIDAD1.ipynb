{
 "cells": [
  {
   "cell_type": "code",
   "execution_count": 2,
   "id": "53455e43-97fa-4052-98c5-238ed884dc00",
   "metadata": {},
   "outputs": [
    {
     "ename": "ModuleNotFoundError",
     "evalue": "No module named 'actividadNUM1'",
     "output_type": "error",
     "traceback": [
      "\u001b[31m---------------------------------------------------------------------------\u001b[39m",
      "\u001b[31mModuleNotFoundError\u001b[39m                       Traceback (most recent call last)",
      "\u001b[36mCell\u001b[39m\u001b[36m \u001b[39m\u001b[32mIn[2]\u001b[39m\u001b[32m, line 1\u001b[39m\n\u001b[32m----> \u001b[39m\u001b[32m1\u001b[39m \u001b[38;5;28;01mfrom\u001b[39;00m\u001b[38;5;250m \u001b[39m\u001b[34;01mactividadNUM1\u001b[39;00m\u001b[34;01m.\u001b[39;00m\u001b[34;01mfunciones\u001b[39;00m\u001b[38;5;250m \u001b[39m\u001b[38;5;28;01mimport\u001b[39;00m simular_rondas\n\u001b[32m      2\u001b[39m \u001b[38;5;66;03m# ============================\u001b[39;00m\n\u001b[32m      3\u001b[39m \u001b[38;5;66;03m# DATOS DE LAS RONDAS\u001b[39;00m\n\u001b[32m      4\u001b[39m \u001b[38;5;66;03m# ============================\u001b[39;00m\n\u001b[32m      5\u001b[39m evaluaciones = [\n\u001b[32m      6\u001b[39m     \u001b[38;5;66;03m# Ronda 1\u001b[39;00m\n\u001b[32m      7\u001b[39m     {                                                                                             \u001b[38;5;66;03m#PUNTO 1  \u001b[39;00m\n\u001b[32m   (...)\u001b[39m\u001b[32m     45\u001b[39m     }\n\u001b[32m     46\u001b[39m ]\n",
      "\u001b[31mModuleNotFoundError\u001b[39m: No module named 'actividadNUM1'"
     ]
    }
   ],
   "source": [
    "from actividadNUM1.funciones import simular_rondas\n",
    "# ============================\n",
    "# DATOS DE LAS RONDAS\n",
    "# ============================\n",
    "evaluaciones = [\n",
    "    # Ronda 1\n",
    "    {                                                                                             #PUNTO 1  \n",
    "        'EquipoA': {'innovacion': 2, 'presentacion': 1, 'errores': True},               #PUNTOS DEL EQUIPO A: 2*3 + 1*1 - 1 = 6+1-1=6\n",
    "        'EquipoB': {'innovacion': 1, 'presentacion': 0, 'errores': False},              #PUNTOS DEL EQUIPO B: 1*3 + 0*1 - 0 = 3+0-0=3\n",
    "        'EquipoC': {'innovacion': 1, 'presentacion': 2, 'errores': True},               #PUNTOS DEL EQUIPO C: 1*3 + 2*1 - 1 = 3+2-1=4\n",
    "        'EquipoD': {'innovacion': 0, 'presentacion': 1, 'errores': False},              #PUNTOS DEL EQUIPO D: 0*3 + 1*1 - 0 = 0+1-0=1\n",
    "        'EquipoE': {'innovacion': 1, 'presentacion': 1, 'errores': False}               #PUNTOS DEL EQUIPO E: 1*3 + 1*1 - 0 = 3+1-0=4\n",
    "    },\n",
    "    # Ronda 2\n",
    "    {\n",
    "        'EquipoA': {'innovacion': 0, 'presentacion': 2, 'errores': False},\n",
    "        'EquipoB': {'innovacion': 2, 'presentacion': 0, 'errores': True},\n",
    "        'EquipoC': {'innovacion': 1, 'presentacion': 1, 'errores': False},\n",
    "        'EquipoD': {'innovacion': 2, 'presentacion': 1, 'errores': True},\n",
    "        'EquipoE': {'innovacion': 0, 'presentacion': 1, 'errores': False}\n",
    "    },\n",
    "    # Ronda 3\n",
    "    {\n",
    "        'EquipoA': {'innovacion': 3, 'presentacion': 2, 'errores': False},\n",
    "        'EquipoB': {'innovacion': 1, 'presentacion': 1, 'errores': True},\n",
    "        'EquipoC': {'innovacion': 2, 'presentacion': 0, 'errores': False},\n",
    "        'EquipoD': {'innovacion': 1, 'presentacion': 3, 'errores': True},\n",
    "        'EquipoE': {'innovacion': 2, 'presentacion': 2, 'errores': False}\n",
    "    },\n",
    "    # Ronda 4\n",
    "    {\n",
    "        'EquipoA': {'innovacion': 1, 'presentacion': 3, 'errores': True},\n",
    "        'EquipoB': {'innovacion': 2, 'presentacion': 2, 'errores': False},\n",
    "        'EquipoC': {'innovacion': 3, 'presentacion': 1, 'errores': False},\n",
    "        'EquipoD': {'innovacion': 0, 'presentacion': 2, 'errores': True},\n",
    "        'EquipoE': {'innovacion': 2, 'presentacion': 0, 'errores': False}\n",
    "    },\n",
    "    # Ronda 5\n",
    "    {\n",
    "        'EquipoA': {'innovacion': 2, 'presentacion': 2, 'errores': False},\n",
    "        'EquipoB': {'innovacion': 1, 'presentacion': 3, 'errores': True},\n",
    "        'EquipoC': {'innovacion': 0, 'presentacion': 2, 'errores': False},\n",
    "        'EquipoD': {'innovacion': 3, 'presentacion': 1, 'errores': False},\n",
    "        'EquipoE': {'innovacion': 2, 'presentacion': 3, 'errores': True}\n",
    "    }\n",
    "]\n",
    "\n",
    "\n",
    "# ============================\n",
    "# PUNTOS ASIGNADOS A CADA CRITERIO\n",
    "# ============================\n",
    "diccionario_puntos = {\n",
    "    'innovacion': 3,\n",
    "    'presentacion': 1,\n",
    "    'errores': -1 \n",
    "}\n",
    "\n",
    "# ============================\n",
    "# EJECUCIÓN DE LA SIMULACIÓN\n",
    "# ============================\n",
    "simular_rondas(evaluaciones, diccionario_puntos) # se llama a la función simular_rondas, pasándole: evaluaciones: todas las rondas con los resultados de los equipos.diccionario_puntos: los valores que debe usar para calcular el puntaje final de cada equipo.\n",
    " \n",
    " #El código prepara los datos de una competencia por rondas y los criterios de puntuación, y luego llama a la función simular_rondas para que calcule los puntajes y determine los ganadores.\n"
   ]
  },
  {
   "cell_type": "code",
   "execution_count": null,
   "id": "225e8517-00e4-41ec-8460-85a511590301",
   "metadata": {},
   "outputs": [
    {
     "ename": "ModuleNotFoundError",
     "evalue": "No module named 'funciones'",
     "output_type": "error",
     "traceback": [
      "\u001b[31m---------------------------------------------------------------------------\u001b[39m",
      "\u001b[31mModuleNotFoundError\u001b[39m                       Traceback (most recent call last)",
      "\u001b[36mCell\u001b[39m\u001b[36m \u001b[39m\u001b[32mIn[8]\u001b[39m\u001b[32m, line 1\u001b[39m\n\u001b[32m----> \u001b[39m\u001b[32m1\u001b[39m \u001b[38;5;28;01mfrom\u001b[39;00m\u001b[38;5;250m \u001b[39m\u001b[34;01mfunciones\u001b[39;00m\u001b[38;5;250m \u001b[39m\u001b[38;5;28;01mimport\u001b[39;00m simular_rondas\n\u001b[32m      3\u001b[39m \u001b[38;5;66;03m# ============================\u001b[39;00m\n\u001b[32m      4\u001b[39m \u001b[38;5;66;03m# PUNTOS ASIGNADOS A CADA CRITERIO\u001b[39;00m\n\u001b[32m      5\u001b[39m \u001b[38;5;66;03m# ============================\u001b[39;00m\n\u001b[32m      6\u001b[39m diccionario_puntos = {\n\u001b[32m      7\u001b[39m     \u001b[33m'\u001b[39m\u001b[33minnovacion\u001b[39m\u001b[33m'\u001b[39m: \u001b[32m3\u001b[39m,\n\u001b[32m      8\u001b[39m     \u001b[33m'\u001b[39m\u001b[33mpresentacion\u001b[39m\u001b[33m'\u001b[39m: \u001b[32m1\u001b[39m,\n\u001b[32m      9\u001b[39m     \u001b[33m'\u001b[39m\u001b[33merrores\u001b[39m\u001b[33m'\u001b[39m: -\u001b[32m1\u001b[39m \n\u001b[32m     10\u001b[39m }\n",
      "\u001b[31mModuleNotFoundError\u001b[39m: No module named 'funciones'"
     ]
    }
   ],
   "source": [
    "from funciones import simular_rondas\n",
    "\n",
    "# ============================\n",
    "# PUNTOS ASIGNADOS A CADA CRITERIO\n",
    "# ============================\n",
    "diccionario_puntos = {\n",
    "    'innovacion': 3,\n",
    "    'presentacion': 1,\n",
    "    'errores': -1 \n",
    "}\n",
    "\n",
    "# ============================\n",
    "# EJECUCIÓN DE LA SIMULACIÓN\n",
    "# ============================\n",
    "simular_rondas(evaluaciones, diccionario_puntos) # se llama a la función simular_rondas, pasándole: evaluaciones: todas las rondas con los resultados de los equipos.diccionario_puntos: los valores que debe usar para calcular el puntaje final de cada equipo.\n",
    " \n",
    " #El código prepara los datos de una competencia por rondas y los criterios de puntuación, y luego llama a la función simular_rondas para que calcule los puntajes y determine los ganadores.\n"
   ]
  },
  {
   "cell_type": "code",
   "execution_count": null,
   "id": "46564e47-2f08-48a5-b83b-0a5bbced79e8",
   "metadata": {},
   "outputs": [
    {
     "ename": "ModuleNotFoundError",
     "evalue": "No module named 'funciones'",
     "output_type": "error",
     "traceback": [
      "\u001b[31m---------------------------------------------------------------------------\u001b[39m",
      "\u001b[31mModuleNotFoundError\u001b[39m                       Traceback (most recent call last)",
      "\u001b[36mCell\u001b[39m\u001b[36m \u001b[39m\u001b[32mIn[9]\u001b[39m\u001b[32m, line 4\u001b[39m\n\u001b[32m      1\u001b[39m \u001b[38;5;28;01mimport\u001b[39;00m\u001b[38;5;250m \u001b[39m\u001b[34;01msys\u001b[39;00m\n\u001b[32m      2\u001b[39m sys.path.append(\u001b[33m\"\u001b[39m\u001b[33mC:/Users/TuUsuario/Documents\u001b[39m\u001b[33m\"\u001b[39m)  \u001b[38;5;66;03m# ruta donde está funciones.py\u001b[39;00m\n\u001b[32m----> \u001b[39m\u001b[32m4\u001b[39m \u001b[38;5;28;01mfrom\u001b[39;00m\u001b[38;5;250m \u001b[39m\u001b[34;01mfunciones\u001b[39;00m\u001b[38;5;250m \u001b[39m\u001b[38;5;28;01mimport\u001b[39;00m simular_rondas\n\u001b[32m      6\u001b[39m \u001b[38;5;66;03m# ============================\u001b[39;00m\n\u001b[32m      7\u001b[39m \u001b[38;5;66;03m# PUNTOS ASIGNADOS A CADA CRITERIO\u001b[39;00m\n\u001b[32m      8\u001b[39m \u001b[38;5;66;03m# ============================\u001b[39;00m\n\u001b[32m      9\u001b[39m diccionario_puntos = {\n\u001b[32m     10\u001b[39m     \u001b[33m'\u001b[39m\u001b[33minnovacion\u001b[39m\u001b[33m'\u001b[39m: \u001b[32m3\u001b[39m,\n\u001b[32m     11\u001b[39m     \u001b[33m'\u001b[39m\u001b[33mpresentacion\u001b[39m\u001b[33m'\u001b[39m: \u001b[32m1\u001b[39m,\n\u001b[32m     12\u001b[39m     \u001b[33m'\u001b[39m\u001b[33merrores\u001b[39m\u001b[33m'\u001b[39m: -\u001b[32m1\u001b[39m \n\u001b[32m     13\u001b[39m }\n",
      "\u001b[31mModuleNotFoundError\u001b[39m: No module named 'funciones'"
     ]
    }
   ],
   "source": [
    "import sys\n",
    "sys.path.append(\"C:/Users/TuUsuario/Documents\")  # ruta donde está funciones.py\n",
    "\n",
    "from funciones import simular_rondas\n",
    "\n",
    "# ============================\n",
    "# PUNTOS ASIGNADOS A CADA CRITERIO\n",
    "# ============================\n",
    "diccionario_puntos = {\n",
    "    'innovacion': 3,\n",
    "    'presentacion': 1,\n",
    "    'errores': -1 \n",
    "}\n",
    "\n",
    "# ============================\n",
    "# EJECUCIÓN DE LA SIMULACIÓN\n",
    "# ============================\n",
    "simular_rondas(evaluaciones, diccionario_puntos) # se llama a la función simular_rondas, pasándole: evaluaciones: todas las rondas con los resultados de los equipos.diccionario_puntos: los valores que debe usar para calcular el puntaje final de cada equipo.\n",
    " \n",
    " #El código prepara los datos de una competencia por rondas y los criterios de puntuación, y luego llama a la función simular_rondas para que calcule los puntajes y determine los ganadores.\n",
    "\n"
   ]
  },
  {
   "cell_type": "code",
   "execution_count": null,
   "id": "ef98892a-c6ac-4df6-950c-ba4de87a1c8d",
   "metadata": {},
   "outputs": [
    {
     "ename": "ModuleNotFoundError",
     "evalue": "No module named 'funciones'",
     "output_type": "error",
     "traceback": [
      "\u001b[31m---------------------------------------------------------------------------\u001b[39m",
      "\u001b[31mModuleNotFoundError\u001b[39m                       Traceback (most recent call last)",
      "\u001b[36mCell\u001b[39m\u001b[36m \u001b[39m\u001b[32mIn[11]\u001b[39m\u001b[32m, line 1\u001b[39m\n\u001b[32m----> \u001b[39m\u001b[32m1\u001b[39m \u001b[38;5;28;01mfrom\u001b[39;00m\u001b[38;5;250m \u001b[39m\u001b[34;01mfunciones\u001b[39;00m\u001b[38;5;250m \u001b[39m\u001b[38;5;28;01mimport\u001b[39;00m simular_rondas\n\u001b[32m      3\u001b[39m \u001b[38;5;66;03m# ============================\u001b[39;00m\n\u001b[32m      4\u001b[39m \u001b[38;5;66;03m# PUNTOS ASIGNADOS A CADA CRITERIO\u001b[39;00m\n\u001b[32m      5\u001b[39m \u001b[38;5;66;03m# ============================\u001b[39;00m\n\u001b[32m      6\u001b[39m diccionario_puntos = {\n\u001b[32m      7\u001b[39m     \u001b[33m'\u001b[39m\u001b[33minnovacion\u001b[39m\u001b[33m'\u001b[39m: \u001b[32m3\u001b[39m,\n\u001b[32m      8\u001b[39m     \u001b[33m'\u001b[39m\u001b[33mpresentacion\u001b[39m\u001b[33m'\u001b[39m: \u001b[32m1\u001b[39m,\n\u001b[32m      9\u001b[39m     \u001b[33m'\u001b[39m\u001b[33merrores\u001b[39m\u001b[33m'\u001b[39m: -\u001b[32m1\u001b[39m \n\u001b[32m     10\u001b[39m }\n",
      "\u001b[31mModuleNotFoundError\u001b[39m: No module named 'funciones'"
     ]
    }
   ],
   "source": [
    "from funciones import simular_rondas\n",
    "\n",
    "# ============================\n",
    "# PUNTOS ASIGNADOS A CADA CRITERIO\n",
    "# ============================\n",
    "diccionario_puntos = {\n",
    "    'innovacion': 3,\n",
    "    'presentacion': 1,\n",
    "    'errores': -1 \n",
    "}\n",
    "\n",
    "# ============================\n",
    "# EJECUCIÓN DE LA SIMULACIÓN\n",
    "# ============================\n",
    "simular_rondas(evaluaciones, diccionario_puntos) # se llama a la función simular_rondas, pasándole: evaluaciones: todas las rondas con los resultados de los equipos.diccionario_puntos: los valores que debe usar para calcular el puntaje final de cada equipo.\n",
    " \n",
    " #El código prepara los datos de una competencia por rondas y los criterios de puntuación, y luego llama a la función simular_rondas para que calcule los puntajes y determine los ganadores.\n"
   ]
  },
  {
   "cell_type": "code",
   "execution_count": null,
   "id": "ee2b8a3d-a808-4ce6-ad6f-e954d895e22d",
   "metadata": {},
   "outputs": [
    {
     "ename": "ModuleNotFoundError",
     "evalue": "No module named 'funciones'",
     "output_type": "error",
     "traceback": [
      "\u001b[31m---------------------------------------------------------------------------\u001b[39m",
      "\u001b[31mModuleNotFoundError\u001b[39m                       Traceback (most recent call last)",
      "\u001b[36mCell\u001b[39m\u001b[36m \u001b[39m\u001b[32mIn[12]\u001b[39m\u001b[32m, line 1\u001b[39m\n\u001b[32m----> \u001b[39m\u001b[32m1\u001b[39m \u001b[38;5;28;01mfrom\u001b[39;00m\u001b[38;5;250m \u001b[39m\u001b[34;01mfunciones\u001b[39;00m\u001b[38;5;250m \u001b[39m\u001b[38;5;28;01mimport\u001b[39;00m simular_rondas\n\u001b[32m      3\u001b[39m \u001b[38;5;66;03m# ============================\u001b[39;00m\n\u001b[32m      4\u001b[39m \u001b[38;5;66;03m# PUNTOS ASIGNADOS A CADA CRITERIO\u001b[39;00m\n\u001b[32m      5\u001b[39m \u001b[38;5;66;03m# ============================\u001b[39;00m\n\u001b[32m      6\u001b[39m diccionario_puntos = {\n\u001b[32m      7\u001b[39m     \u001b[33m'\u001b[39m\u001b[33minnovacion\u001b[39m\u001b[33m'\u001b[39m: \u001b[32m3\u001b[39m,\n\u001b[32m      8\u001b[39m     \u001b[33m'\u001b[39m\u001b[33mpresentacion\u001b[39m\u001b[33m'\u001b[39m: \u001b[32m1\u001b[39m,\n\u001b[32m      9\u001b[39m     \u001b[33m'\u001b[39m\u001b[33merrores\u001b[39m\u001b[33m'\u001b[39m: -\u001b[32m1\u001b[39m \n\u001b[32m     10\u001b[39m }\n",
      "\u001b[31mModuleNotFoundError\u001b[39m: No module named 'funciones'"
     ]
    }
   ],
   "source": [
    "from funciones import simular_rondas\n",
    "\n",
    "# ============================\n",
    "# PUNTOS ASIGNADOS A CADA CRITERIO\n",
    "# ============================\n",
    "diccionario_puntos = {\n",
    "    'innovacion': 3,\n",
    "    'presentacion': 1,\n",
    "    'errores': -1 \n",
    "}\n",
    "\n",
    "# ============================\n",
    "# EJECUCIÓN DE LA SIMULACIÓN\n",
    "# ============================\n",
    "simular_rondas(evaluaciones, diccionario_puntos) # se llama a la función simular_rondas, pasándole: evaluaciones: todas las rondas con los resultados de los equipos.diccionario_puntos: los valores que debe usar para calcular el puntaje final de cada equipo.\n",
    " \n",
    " #El código prepara los datos de una competencia por rondas y los criterios de puntuación, y luego llama a la función simular_rondas para que calcule los puntajes y determine los ganadores.\n"
   ]
  },
  {
   "cell_type": "code",
   "execution_count": null,
   "id": "f3da8a84-53c4-4159-91ff-b83b6511eea2",
   "metadata": {},
   "outputs": [],
   "source": []
  }
 ],
 "metadata": {
  "kernelspec": {
   "display_name": "Python 3",
   "language": "python",
   "name": "python3"
  },
  "language_info": {
   "codemirror_mode": {
    "name": "ipython",
    "version": 3
   },
   "file_extension": ".py",
   "mimetype": "text/x-python",
   "name": "python",
   "nbconvert_exporter": "python",
   "pygments_lexer": "ipython3",
   "version": "3.13.1"
  }
 },
 "nbformat": 4,
 "nbformat_minor": 5
}
